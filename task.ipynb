{
 "cells": [
  {
   "cell_type": "markdown",
   "id": "5e8f3fe4-2d32-4a33-84b3-475ada1e134e",
   "metadata": {},
   "source": [
    "## FOR LOOP TASK"
   ]
  },
  {
   "cell_type": "code",
   "execution_count": null,
   "id": "7eae49b7-97e6-4254-ae93-46eedc5a8b6f",
   "metadata": {},
   "outputs": [],
   "source": []
  },
  {
   "cell_type": "code",
   "execution_count": 38,
   "id": "4f298055-2f86-4c75-b7d4-ab55bff9bb26",
   "metadata": {},
   "outputs": [
    {
     "name": "stdin",
     "output_type": "stream",
     "text": [
      "ENTER Student name : Israr\n",
      "Enter math number: 55\n",
      "Enter English number: 69\n",
      "Enter Science number: 68\n",
      "Enter Urdu number: 70\n"
     ]
    },
    {
     "name": "stdout",
     "output_type": "stream",
     "text": [
      "student\n",
      "Math: 55\n",
      "English: 69\n",
      "Science: 68\n",
      "Urdu: 70\n",
      "Total Marks: 262\n",
      "Percentage: 65.5\n",
      "Grade: C\n"
     ]
    }
   ],
   "source": [
    "\n",
    "   \n",
    "student = input(\"ENTER Student name :\")\n",
    "Math = int(input(\"Enter math number:\"))\n",
    "English = int(input(\"Enter English number:\"))\n",
    "Science = int(input(\"Enter Science number:\"))\n",
    "Urdu = int(input(\"Enter Urdu number:\"))\n",
    "\n",
    "Mark =[Math,English,Science,Urdu];\n",
    "total = 0\n",
    "\n",
    "for a in Mark:\n",
    "    total += a\n",
    "\n",
    "\n",
    "percentage = total / len(Mark)\n",
    "\n",
    "# Grade Logic\n",
    "if percentage >= 90:\n",
    "    grade = \"A+\"\n",
    "elif percentage >= 80:\n",
    "    grade = \"A\"\n",
    "elif percentage >= 70:\n",
    "    grade = \"B\"\n",
    "elif percentage >= 60:\n",
    "    grade = \"C\"\n",
    "elif percentage >= 50:\n",
    "    grade = \"D\"\n",
    "else:\n",
    "    grade = \"Fail\";\n",
    "\n",
    "\n",
    "print(\"student\")\n",
    "print(\"Math:\", Math)\n",
    "print(\"English:\",English)\n",
    "print(\"Science:\", Science)\n",
    "print(\"Urdu:\", Urdu)\n",
    "print(\"Total Marks:\", total)\n",
    "print(\"Percentage:\", round(percentage, 2))\n",
    "print(\"Grade:\", grade)\n",
    "     \n",
    "\n"
   ]
  },
  {
   "cell_type": "code",
   "execution_count": null,
   "id": "a17b3fd3-f745-46f6-a2c3-896dfedb3fc4",
   "metadata": {},
   "outputs": [],
   "source": []
  },
  {
   "cell_type": "code",
   "execution_count": null,
   "id": "f0581362-082d-4f5a-9962-1e2ddbea95b3",
   "metadata": {},
   "outputs": [],
   "source": []
  }
 ],
 "metadata": {
  "kernelspec": {
   "display_name": "Python 3 (ipykernel)",
   "language": "python",
   "name": "python3"
  },
  "language_info": {
   "codemirror_mode": {
    "name": "ipython",
    "version": 3
   },
   "file_extension": ".py",
   "mimetype": "text/x-python",
   "name": "python",
   "nbconvert_exporter": "python",
   "pygments_lexer": "ipython3",
   "version": "3.13.5"
  }
 },
 "nbformat": 4,
 "nbformat_minor": 5
}
